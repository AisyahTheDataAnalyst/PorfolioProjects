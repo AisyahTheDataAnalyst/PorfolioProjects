{
 "cells": [
  {
   "cell_type": "markdown",
   "id": "eb7aea32-d696-460b-b0f5-a023b6f85554",
   "metadata": {},
   "source": [
    "# BMI Calculator \n",
    "https://www.calculatorsoup.com/calculators/health/bmi-calculator.php "
   ]
  },
  {
   "cell_type": "code",
   "execution_count": 40,
   "id": "28135d9a-96fc-4b69-976f-edd4d9298b04",
   "metadata": {},
   "outputs": [],
   "source": [
    "#BMI = weight ÷ height^2\n"
   ]
  },
  {
   "cell_type": "code",
   "execution_count": null,
   "id": "e45a59aa-7453-4d66-a590-dc1c487af91c",
   "metadata": {
    "scrolled": true
   },
   "outputs": [],
   "source": [
    "#WHO Adult BMI Categories\n",
    " BMI\t        Category\n",
    " < 16.0\t        Severely Underweight\n",
    " 16.0 - 18.4\tUnderweight\n",
    " 18.5 - 24.9\tNormal\n",
    " 25.0 - 29.9\tOverweight\n",
    " 30.0 - 34.9\tModerately Obese\n",
    " 35.0 - 39.9\tSeverely Obese\n",
    " > 40.0\t        Morbidly Obese"
   ]
  },
  {
   "cell_type": "code",
   "execution_count": 44,
   "id": "139a6b64-b2d1-4201-a83e-a377df375d66",
   "metadata": {},
   "outputs": [
    {
     "name": "stdin",
     "output_type": "stream",
     "text": [
      "Enter your name:  Aisyah\n",
      "Enter you weight in kilograms:  60\n",
      "Enter you height in meters:  1.57\n"
     ]
    },
    {
     "name": "stdout",
     "output_type": "stream",
     "text": [
      "Your BMI is 24.34\n",
      "Aisyah, you are normal weight.\n"
     ]
    }
   ],
   "source": [
    "name = input(\"Enter your name: \")\n",
    "\n",
    "weight = float(input(\"Enter you weight in kilograms: \"))\n",
    "\n",
    "height = float(input(\"Enter you height in meters: \"))\n",
    "\n",
    "BMI = weight / (height*height)\n",
    "\n",
    "print(\"Your BMI is\", + round(BMI,2))\n",
    "\n",
    "if BMI>0:\n",
    "    if(BMI<16.0):\n",
    "        print(name + \", you are severely underweight.\")\n",
    "    elif(BMI<=18.4):\n",
    "        print(name + \", you are underweight.\")\n",
    "    elif(BMI<=24.9):\n",
    "        print(name + \", you are normal weight.\")\n",
    "    elif(BMI<=29.9):\n",
    "        print(name + \", you are overweight.\")\n",
    "    elif(BMI<=34.9):\n",
    "        print(name + \", you are moderately obese.\")\n",
    "    elif(BMI<=39.9):\n",
    "        print(name + \", you are severely obese.\")\n",
    "    else:\n",
    "        print(name + \", you are morbidly obese.\")\n"
   ]
  }
 ],
 "metadata": {
  "kernelspec": {
   "display_name": "Python 3 (ipykernel)",
   "language": "python",
   "name": "python3"
  },
  "language_info": {
   "codemirror_mode": {
    "name": "ipython",
    "version": 3
   },
   "file_extension": ".py",
   "mimetype": "text/x-python",
   "name": "python",
   "nbconvert_exporter": "python",
   "pygments_lexer": "ipython3",
   "version": "3.11.7"
  }
 },
 "nbformat": 4,
 "nbformat_minor": 5
}
