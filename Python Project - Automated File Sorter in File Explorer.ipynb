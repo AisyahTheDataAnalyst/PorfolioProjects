{
 "cells": [
  {
   "cell_type": "markdown",
   "id": "4d2b0a7b-a280-4126-a746-7fe38a40b3c0",
   "metadata": {},
   "source": [
    "# Automatic File Sorter in File Explorer"
   ]
  },
  {
   "cell_type": "code",
   "execution_count": 1,
   "id": "a0e79da8-611a-49ea-a50b-5f27903cb68c",
   "metadata": {},
   "outputs": [],
   "source": [
    "import os, shutil"
   ]
  },
  {
   "cell_type": "code",
   "execution_count": 35,
   "id": "c81ecbb6-029f-4bba-b9aa-5e098f03809a",
   "metadata": {},
   "outputs": [],
   "source": [
    "path = r\"C:\\Users\\User\\Desktop\\Python Files Sorting\\\\\""
   ]
  },
  {
   "cell_type": "code",
   "execution_count": 37,
   "id": "1b8242b0-de30-4944-85f6-469842281b07",
   "metadata": {},
   "outputs": [
    {
     "data": {
      "text/plain": [
       "['MS-Logo.ico',\n",
       " 'My Profile Pic.jpg',\n",
       " 'Python Project.ipynb',\n",
       " 'Report.docx',\n",
       " 'TODOLIST.xlsx']"
      ]
     },
     "execution_count": 37,
     "metadata": {},
     "output_type": "execute_result"
    }
   ],
   "source": [
    "#showing the types of the files in the path\n",
    "\n",
    "os.listdir(path)"
   ]
  },
  {
   "cell_type": "code",
   "execution_count": 38,
   "id": "0f8146b3-f81a-4d32-8486-4925f1bfcac1",
   "metadata": {},
   "outputs": [],
   "source": [
    "#to check if the folders of each file type exist already, create new ones if not exist\n",
    "\n",
    "folder_names = ['picture files', 'icon files', 'Python script files', 'document files', 'excel files']\n",
    "\n",
    "for loop in range (0,5):\n",
    "    if not os.path.exists(path + folder_names[loop]):\n",
    "        #print(path + folder_names[loop])\n",
    "        os.makedirs(path + folder_names[loop])\n",
    "\n",
    "\n",
    "\n",
    "\n",
    "#read the files to check their file types, and place them in the correct folder\n",
    "\n",
    "file_name = os.listdir(path)\n",
    "\n",
    "for file in file_name:\n",
    "    if \".ico\" in file and not os.path.exists(path + \"icon files/\" + file):\n",
    "        shutil.move(path + file, path + \"icon files/\" + file)\n",
    "    elif \".jpg\" in file and not os.path.exists(path + \"picture files/\" + file):\n",
    "        shutil.move(path + file, path + \"picture files/\" + file)\n",
    "    elif \".ipynb\" in file and not os.path.exists(path + \"Python script files/\" + file):\n",
    "        shutil.move(path + file, path + \"Python script files/\" + file)\n",
    "    elif \".docx\" in file and not os.path.exists(path + \"document files/\" + file):\n",
    "        shutil.move(path + file, path + \"document files/\" + file)\n",
    "    elif \".xlsx\" in file and not os.path.exists(path + \"excel files/\" + file):\n",
    "        shutil.move(path + file, path + \"excel files/\" + file)\n",
    "\n"
   ]
  }
 ],
 "metadata": {
  "kernelspec": {
   "display_name": "Python 3 (ipykernel)",
   "language": "python",
   "name": "python3"
  },
  "language_info": {
   "codemirror_mode": {
    "name": "ipython",
    "version": 3
   },
   "file_extension": ".py",
   "mimetype": "text/x-python",
   "name": "python",
   "nbconvert_exporter": "python",
   "pygments_lexer": "ipython3",
   "version": "3.11.7"
  }
 },
 "nbformat": 4,
 "nbformat_minor": 5
}
